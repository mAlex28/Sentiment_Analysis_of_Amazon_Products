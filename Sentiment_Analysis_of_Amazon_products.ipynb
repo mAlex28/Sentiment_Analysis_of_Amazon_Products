{
 "cells": [
  {
   "cell_type": "markdown",
   "id": "f0472083-6d90-4b05-af15-d33dd3298a29",
   "metadata": {},
   "source": [
    "# Sentiment Analysis of Amazon Appliances\n",
    "\n",
    "Dataset: <link>https://amazon-reviews-2023.github.io/#for-user-reviews</link>"
   ]
  },
  {
   "cell_type": "code",
   "execution_count": 1,
   "id": "a5ab0359-db03-4057-b152-3346d5c18faf",
   "metadata": {},
   "outputs": [],
   "source": [
    "import pandas as pd\n",
    "import nltk\n",
    "from nltk.corpus import stopwords\n",
    "import string\n",
    "from transformers import pipeline\n",
    "\n",
    "import seaborn as sns\n",
    "import matplotlib.pyplot as plt"
   ]
  },
  {
   "cell_type": "markdown",
   "id": "95b993b7-f156-4cfa-9738-1637315c543c",
   "metadata": {},
   "source": [
    "## Loading the Dataset"
   ]
  },
  {
   "cell_type": "code",
   "execution_count": 12,
   "id": "fa28f8cf-2d97-466f-bedb-e8bde401e3b6",
   "metadata": {},
   "outputs": [
    {
     "data": {
      "text/html": [
       "<div>\n",
       "<style scoped>\n",
       "    .dataframe tbody tr th:only-of-type {\n",
       "        vertical-align: middle;\n",
       "    }\n",
       "\n",
       "    .dataframe tbody tr th {\n",
       "        vertical-align: top;\n",
       "    }\n",
       "\n",
       "    .dataframe thead th {\n",
       "        text-align: right;\n",
       "    }\n",
       "</style>\n",
       "<table border=\"1\" class=\"dataframe\">\n",
       "  <thead>\n",
       "    <tr style=\"text-align: right;\">\n",
       "      <th></th>\n",
       "      <th>rating</th>\n",
       "      <th>title</th>\n",
       "      <th>text</th>\n",
       "      <th>images</th>\n",
       "      <th>asin</th>\n",
       "      <th>parent_asin</th>\n",
       "      <th>user_id</th>\n",
       "      <th>timestamp</th>\n",
       "      <th>helpful_vote</th>\n",
       "      <th>verified_purchase</th>\n",
       "    </tr>\n",
       "  </thead>\n",
       "  <tbody>\n",
       "    <tr>\n",
       "      <th>0</th>\n",
       "      <td>5</td>\n",
       "      <td>Work great</td>\n",
       "      <td>work great. use a new one every month</td>\n",
       "      <td>[]</td>\n",
       "      <td>B01N0TQ0OH</td>\n",
       "      <td>B01N0TQ0OH</td>\n",
       "      <td>AGKHLEW2SOWHNMFQIJGBECAF7INQ</td>\n",
       "      <td>2018-02-22 16:31:48.692</td>\n",
       "      <td>0</td>\n",
       "      <td>True</td>\n",
       "    </tr>\n",
       "    <tr>\n",
       "      <th>1</th>\n",
       "      <td>5</td>\n",
       "      <td>excellent product</td>\n",
       "      <td>Little on the thin side</td>\n",
       "      <td>[]</td>\n",
       "      <td>B07DD2DMXB</td>\n",
       "      <td>B07DD37QPZ</td>\n",
       "      <td>AHWWLSPCJMALVHDDVSUGICL6RUCA</td>\n",
       "      <td>2022-10-02 21:41:03.446</td>\n",
       "      <td>0</td>\n",
       "      <td>True</td>\n",
       "    </tr>\n",
       "    <tr>\n",
       "      <th>2</th>\n",
       "      <td>5</td>\n",
       "      <td>Happy customer!</td>\n",
       "      <td>Quick delivery, fixed the issue!</td>\n",
       "      <td>[]</td>\n",
       "      <td>B082W3Z9YK</td>\n",
       "      <td>B082W3Z9YK</td>\n",
       "      <td>AHZIJGKEWRTAEOZ673G5B3SNXEGQ</td>\n",
       "      <td>2020-12-06 03:30:35.363</td>\n",
       "      <td>0</td>\n",
       "      <td>True</td>\n",
       "    </tr>\n",
       "    <tr>\n",
       "      <th>3</th>\n",
       "      <td>5</td>\n",
       "      <td>Amazing value</td>\n",
       "      <td>I wasn't sure whether these were worth it or n...</td>\n",
       "      <td>[]</td>\n",
       "      <td>B078W2BJY8</td>\n",
       "      <td>B078W2BJY8</td>\n",
       "      <td>AFGUPTDFAWOHHL4LZDV27ERDNOYQ</td>\n",
       "      <td>2018-08-12 20:03:04.306</td>\n",
       "      <td>0</td>\n",
       "      <td>True</td>\n",
       "    </tr>\n",
       "    <tr>\n",
       "      <th>4</th>\n",
       "      <td>5</td>\n",
       "      <td>Dryer parts</td>\n",
       "      <td>Easy to install got the product expected to re...</td>\n",
       "      <td>[]</td>\n",
       "      <td>B08C9LPCQV</td>\n",
       "      <td>B08C9LPCQV</td>\n",
       "      <td>AELFJFAXQERUSMTXJQ6SYFFRDWMA</td>\n",
       "      <td>2021-05-05 01:03:23.754</td>\n",
       "      <td>0</td>\n",
       "      <td>True</td>\n",
       "    </tr>\n",
       "  </tbody>\n",
       "</table>\n",
       "</div>"
      ],
      "text/plain": [
       "   rating              title  \\\n",
       "0       5         Work great   \n",
       "1       5  excellent product   \n",
       "2       5    Happy customer!   \n",
       "3       5      Amazing value   \n",
       "4       5        Dryer parts   \n",
       "\n",
       "                                                text images        asin  \\\n",
       "0              work great. use a new one every month     []  B01N0TQ0OH   \n",
       "1                            Little on the thin side     []  B07DD2DMXB   \n",
       "2                   Quick delivery, fixed the issue!     []  B082W3Z9YK   \n",
       "3  I wasn't sure whether these were worth it or n...     []  B078W2BJY8   \n",
       "4  Easy to install got the product expected to re...     []  B08C9LPCQV   \n",
       "\n",
       "  parent_asin                       user_id               timestamp  \\\n",
       "0  B01N0TQ0OH  AGKHLEW2SOWHNMFQIJGBECAF7INQ 2018-02-22 16:31:48.692   \n",
       "1  B07DD37QPZ  AHWWLSPCJMALVHDDVSUGICL6RUCA 2022-10-02 21:41:03.446   \n",
       "2  B082W3Z9YK  AHZIJGKEWRTAEOZ673G5B3SNXEGQ 2020-12-06 03:30:35.363   \n",
       "3  B078W2BJY8  AFGUPTDFAWOHHL4LZDV27ERDNOYQ 2018-08-12 20:03:04.306   \n",
       "4  B08C9LPCQV  AELFJFAXQERUSMTXJQ6SYFFRDWMA 2021-05-05 01:03:23.754   \n",
       "\n",
       "   helpful_vote  verified_purchase  \n",
       "0             0               True  \n",
       "1             0               True  \n",
       "2             0               True  \n",
       "3             0               True  \n",
       "4             0               True  "
      ]
     },
     "execution_count": 12,
     "metadata": {},
     "output_type": "execute_result"
    }
   ],
   "source": [
    "# Load user reviews - 100,000 only\n",
    "user_reviews = pd.read_json(\"data/Appliances.jsonl\", lines=True, nrows=10000)\n",
    "user_reviews.head()"
   ]
  },
  {
   "cell_type": "code",
   "execution_count": 13,
   "id": "a0b6fd02-8170-4131-b5b9-2ebcf00f4577",
   "metadata": {},
   "outputs": [
    {
     "name": "stdout",
     "output_type": "stream",
     "text": [
      "<class 'pandas.core.frame.DataFrame'>\n",
      "RangeIndex: 10000 entries, 0 to 9999\n",
      "Data columns (total 10 columns):\n",
      " #   Column             Non-Null Count  Dtype         \n",
      "---  ------             --------------  -----         \n",
      " 0   rating             10000 non-null  int64         \n",
      " 1   title              10000 non-null  object        \n",
      " 2   text               10000 non-null  object        \n",
      " 3   images             10000 non-null  object        \n",
      " 4   asin               10000 non-null  object        \n",
      " 5   parent_asin        10000 non-null  object        \n",
      " 6   user_id            10000 non-null  object        \n",
      " 7   timestamp          10000 non-null  datetime64[ns]\n",
      " 8   helpful_vote       10000 non-null  int64         \n",
      " 9   verified_purchase  10000 non-null  bool          \n",
      "dtypes: bool(1), datetime64[ns](1), int64(2), object(6)\n",
      "memory usage: 713.0+ KB\n",
      "None\n"
     ]
    }
   ],
   "source": [
    "print(user_reviews.info()) "
   ]
  },
  {
   "cell_type": "code",
   "execution_count": 14,
   "id": "e7366340-0aed-423d-9086-dc845d07eb54",
   "metadata": {},
   "outputs": [
    {
     "data": {
      "text/plain": [
       "100000"
      ]
     },
     "execution_count": 14,
     "metadata": {},
     "output_type": "execute_result"
    }
   ],
   "source": [
    "user_reviews.size"
   ]
  },
  {
   "cell_type": "markdown",
   "id": "ed61f354-9d8c-4f21-88b4-fc1fc28b75bd",
   "metadata": {},
   "source": [
    "## Data Preprocessing"
   ]
  },
  {
   "cell_type": "code",
   "execution_count": 15,
   "id": "d698aa96-4e4c-4f50-b507-f9a4797980d0",
   "metadata": {},
   "outputs": [
    {
     "name": "stdout",
     "output_type": "stream",
     "text": [
      "rating               0\n",
      "title                0\n",
      "text                 0\n",
      "images               0\n",
      "asin                 0\n",
      "parent_asin          0\n",
      "user_id              0\n",
      "timestamp            0\n",
      "helpful_vote         0\n",
      "verified_purchase    0\n",
      "dtype: int64\n"
     ]
    }
   ],
   "source": [
    "# Check for empty rows\n",
    "print(user_reviews.isnull().sum())"
   ]
  },
  {
   "cell_type": "code",
   "execution_count": 16,
   "id": "3988f0e6-ce11-42b8-babb-09295eb560f4",
   "metadata": {},
   "outputs": [
    {
     "name": "stderr",
     "output_type": "stream",
     "text": [
      "[nltk_data] Downloading package stopwords to /Users/alex/nltk_data...\n",
      "[nltk_data]   Package stopwords is already up-to-date!\n"
     ]
    },
    {
     "data": {
      "text/plain": [
       "True"
      ]
     },
     "execution_count": 16,
     "metadata": {},
     "output_type": "execute_result"
    }
   ],
   "source": [
    "nltk.download('stopwords')"
   ]
  },
  {
   "cell_type": "code",
   "execution_count": 17,
   "id": "dccb907f-f99f-4a9e-abc1-4bfcbc38cc47",
   "metadata": {},
   "outputs": [],
   "source": [
    "stop_words = set(stopwords.words('english'))\n",
    "\n",
    "def preprocess_text(text):\n",
    "    # Lowercase\n",
    "    text = text.lower()\n",
    "    # Remove punctuations\n",
    "    text = text.translate(str.maketrans('', '', string.punctuation))\n",
    "    # Remove stopwords\n",
    "    text = ' '.join([word for word in text.split() if word not in stop_words])\n",
    "    return text\n",
    "\n",
    "user_reviews['cleaned_review'] = user_reviews['text'].apply(preprocess_text)"
   ]
  },
  {
   "cell_type": "code",
   "execution_count": 18,
   "id": "2fd98df1-d60b-40da-b8c1-fa987103f310",
   "metadata": {},
   "outputs": [
    {
     "name": "stdout",
     "output_type": "stream",
     "text": [
      "0                   work great use new one every month\n",
      "1                                     little thin side\n",
      "2                           quick delivery fixed issue\n",
      "3    wasnt sure whether worth given cost compared o...\n",
      "4            easy install got product expected receive\n",
      "Name: cleaned_review, dtype: object\n"
     ]
    }
   ],
   "source": [
    "print(user_reviews['cleaned_review'].head())"
   ]
  },
  {
   "cell_type": "markdown",
   "id": "448ca19c-f9d4-4a8b-9a50-e4d53721552d",
   "metadata": {},
   "source": [
    "## Sentiment Analysis"
   ]
  },
  {
   "cell_type": "code",
   "execution_count": 19,
   "id": "b8d45ac0-aa5c-46b9-a1d6-7ae2f157738a",
   "metadata": {
    "scrolled": true
   },
   "outputs": [
    {
     "name": "stderr",
     "output_type": "stream",
     "text": [
      "No model was supplied, defaulted to distilbert-base-uncased-finetuned-sst-2-english and revision af0f99b (https://huggingface.co/distilbert-base-uncased-finetuned-sst-2-english).\n",
      "Using a pipeline without specifying a model name and revision in production is not recommended.\n"
     ]
    }
   ],
   "source": [
    "analyser = pipeline(\"sentiment-analysis\", truncation=True, max_length=512)"
   ]
  },
  {
   "cell_type": "code",
   "execution_count": 20,
   "id": "204b76cd-d330-4332-90d1-c4117b7c8b94",
   "metadata": {},
   "outputs": [],
   "source": [
    "batch_size = 32\n",
    "\n",
    "# Process in batches\n",
    "def process_batches(user_reviews):\n",
    "    sentiments = []\n",
    "    for i in range(0, len(user_reviews), batch_size):\n",
    "        batch_reviews = user_reviews['cleaned_review'].iloc[i:i + batch_size].tolist()\n",
    "        try:\n",
    "            batch_sentiments = analyser(batch_reviews)\n",
    "            sentiments.extend([sentiment['label'] for sentiment in batch_sentiments])\n",
    "        except Exception as e:\n",
    "            print(f\"Error processing batch starting at index {i}: {str(e)}\")\n",
    "            # For any failed reviews, mark as 'UNKNOWN'\n",
    "            sentiments.extend(['UNKNOWN'] * len(batch_reviews))\n",
    "    return sentiments\n",
    "\n"
   ]
  },
  {
   "cell_type": "code",
   "execution_count": 21,
   "id": "05e36b83-c916-4c92-adbe-f9b23a470c3a",
   "metadata": {},
   "outputs": [],
   "source": [
    "user_reviews['sentiment'] = process_batches(user_reviews)"
   ]
  },
  {
   "cell_type": "code",
   "execution_count": 22,
   "id": "3123bd47-0f46-4145-9207-e33efe601a54",
   "metadata": {},
   "outputs": [
    {
     "name": "stdout",
     "output_type": "stream",
     "text": [
      "Sample of processed reviews:\n",
      "                                      cleaned_review sentiment\n",
      "0                 work great use new one every month  POSITIVE\n",
      "1                                   little thin side  NEGATIVE\n",
      "2                         quick delivery fixed issue  NEGATIVE\n",
      "3  wasnt sure whether worth given cost compared o...  NEGATIVE\n",
      "4          easy install got product expected receive  NEGATIVE\n"
     ]
    }
   ],
   "source": [
    "print(\"Sample of processed reviews:\")\n",
    "print(user_reviews[['cleaned_review', 'sentiment']].head())"
   ]
  },
  {
   "cell_type": "code",
   "execution_count": 23,
   "id": "072415f5-989c-4e08-98ea-de863b2b5ee8",
   "metadata": {},
   "outputs": [
    {
     "name": "stdout",
     "output_type": "stream",
     "text": [
      "\n",
      "Sentiment Distribution:\n",
      "sentiment\n",
      "NEGATIVE    5235\n",
      "POSITIVE    4765\n",
      "Name: count, dtype: int64\n"
     ]
    }
   ],
   "source": [
    "\n",
    "# Print some statistics\n",
    "print(\"\\nSentiment Distribution:\")\n",
    "print(user_reviews['sentiment'].value_counts())"
   ]
  },
  {
   "cell_type": "markdown",
   "id": "80847229-5133-4dd7-9b7e-558adb8f3b5c",
   "metadata": {},
   "source": [
    "## Results"
   ]
  },
  {
   "cell_type": "code",
   "execution_count": 24,
   "id": "5e23f876-8684-4648-8801-7ddce07086f9",
   "metadata": {},
   "outputs": [
    {
     "name": "stderr",
     "output_type": "stream",
     "text": [
      "/Users/alex/anaconda3/lib/python3.11/site-packages/seaborn/_oldcore.py:1498: FutureWarning: is_categorical_dtype is deprecated and will be removed in a future version. Use isinstance(dtype, CategoricalDtype) instead\n",
      "  if pd.api.types.is_categorical_dtype(vector):\n",
      "/Users/alex/anaconda3/lib/python3.11/site-packages/seaborn/_oldcore.py:1498: FutureWarning: is_categorical_dtype is deprecated and will be removed in a future version. Use isinstance(dtype, CategoricalDtype) instead\n",
      "  if pd.api.types.is_categorical_dtype(vector):\n",
      "/Users/alex/anaconda3/lib/python3.11/site-packages/seaborn/_oldcore.py:1498: FutureWarning: is_categorical_dtype is deprecated and will be removed in a future version. Use isinstance(dtype, CategoricalDtype) instead\n",
      "  if pd.api.types.is_categorical_dtype(vector):\n"
     ]
    },
    {
     "data": {
      "text/plain": [
       "Text(0, 0.5, 'Count')"
      ]
     },
     "execution_count": 24,
     "metadata": {},
     "output_type": "execute_result"
    },
    {
     "data": {
      "image/png": "[encoded data removed]",
      "text/plain": [
       "<Figure size 640x480 with 1 Axes>"
      ]
     },
     "metadata": {},
     "output_type": "display_data"
    }
   ],
   "source": [
    "import seaborn as sns\n",
    "import matplotlib.pyplot as plt\n",
    "\n",
    "sns.countplot(data=user_reviews, x='sentiment', palette='viridis')\n",
    "plt.title('Sentiment Distribution')\n",
    "plt.xticks(rotation=45)\n",
    "plt.xlabel('Sentiment')\n",
    "plt.ylabel('Count')\n"
   ]
  },
  {
   "cell_type": "code",
   "execution_count": null,
   "id": "91013228-ccc3-45aa-93cd-adb7ab33abf5",
   "metadata": {},
   "outputs": [],
   "source": []
  }
 ],
 "metadata": {
  "kernelspec": {
   "display_name": "Python 3 (ipykernel)",
   "language": "python",
   "name": "python3"
  },
  "language_info": {
   "codemirror_mode": {
    "name": "ipython",
    "version": 3
   },
   "file_extension": ".py",
   "mimetype": "text/x-python",
   "name": "python",
   "nbconvert_exporter": "python",
   "pygments_lexer": "ipython3",
   "version": "3.11.5"
  }
 },
 "nbformat": 4,
 "nbformat_minor": 5
}
